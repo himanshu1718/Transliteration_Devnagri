{
  "nbformat": 4,
  "nbformat_minor": 0,
  "metadata": {
    "colab": {
      "provenance": []
    },
    "kernelspec": {
      "name": "python3",
      "display_name": "Python 3"
    },
    "language_info": {
      "name": "python"
    }
  },
  "cells": [
    {
      "cell_type": "code",
      "execution_count": 1,
      "metadata": {
        "id": "TZwD1UyOwIgv"
      },
      "outputs": [],
      "source": [
        "# Visualization tools\n",
        "import random\n",
        "import matplotlib.pyplot as plt\n",
        "import seaborn as sns\n",
        "from IPython.display import clear_output\n",
        "\n"
      ]
    },
    {
      "cell_type": "code",
      "source": [
        "import torch "
      ],
      "metadata": {
        "id": "-S7vgN3F3FUY"
      },
      "execution_count": 13,
      "outputs": []
    },
    {
      "cell_type": "code",
      "source": [
        "English_Alphabets_All=\"ABCDEFGHIJKLMNOPQRSTUVWXYZ\"\n",
        "padding = '<PAD>'"
      ],
      "metadata": {
        "id": "14WGcV3IwO35"
      },
      "execution_count": 2,
      "outputs": []
    },
    {
      "cell_type": "code",
      "source": [
        "word2int_eng_dict={padding: 0}\n",
        "for id, word in enumerate(English_Alphabets_All):\n",
        "    word2int_eng_dict[word] = id+1\n"
      ],
      "metadata": {
        "id": "ykEJPbGMwhqo"
      },
      "execution_count": 4,
      "outputs": []
    },
    {
      "cell_type": "code",
      "source": [
        "Hindi_alpha = [chr(num) for num in range(2304, 2432)]\n",
        "total_hindi_size = len(Hindi_alpha)\n",
        "\n",
        "word2int_hin_dict = {padding: 0}\n",
        "for id, word in enumerate(Hindi_alpha):\n",
        "    word2int_hin_dict[word] = id+1\n",
        "\n",
        "print(word2int_hin_dict)"
      ],
      "metadata": {
        "id": "eRYf6VzMxDfR",
        "outputId": "e98e2bc8-b400-4237-f061-c4baf9d84ae3",
        "colab": {
          "base_uri": "https://localhost:8080/"
        }
      },
      "execution_count": 8,
      "outputs": [
        {
          "output_type": "stream",
          "name": "stdout",
          "text": [
            "{'<PAD>': 0, 'ऀ': 1, 'ँ': 2, 'ं': 3, 'ः': 4, 'ऄ': 5, 'अ': 6, 'आ': 7, 'इ': 8, 'ई': 9, 'उ': 10, 'ऊ': 11, 'ऋ': 12, 'ऌ': 13, 'ऍ': 14, 'ऎ': 15, 'ए': 16, 'ऐ': 17, 'ऑ': 18, 'ऒ': 19, 'ओ': 20, 'औ': 21, 'क': 22, 'ख': 23, 'ग': 24, 'घ': 25, 'ङ': 26, 'च': 27, 'छ': 28, 'ज': 29, 'झ': 30, 'ञ': 31, 'ट': 32, 'ठ': 33, 'ड': 34, 'ढ': 35, 'ण': 36, 'त': 37, 'थ': 38, 'द': 39, 'ध': 40, 'न': 41, 'ऩ': 42, 'प': 43, 'फ': 44, 'ब': 45, 'भ': 46, 'म': 47, 'य': 48, 'र': 49, 'ऱ': 50, 'ल': 51, 'ळ': 52, 'ऴ': 53, 'व': 54, 'श': 55, 'ष': 56, 'स': 57, 'ह': 58, 'ऺ': 59, 'ऻ': 60, '़': 61, 'ऽ': 62, 'ा': 63, 'ि': 64, 'ी': 65, 'ु': 66, 'ू': 67, 'ृ': 68, 'ॄ': 69, 'ॅ': 70, 'ॆ': 71, 'े': 72, 'ै': 73, 'ॉ': 74, 'ॊ': 75, 'ो': 76, 'ौ': 77, '्': 78, 'ॎ': 79, 'ॏ': 80, 'ॐ': 81, '॑': 82, '॒': 83, '॓': 84, '॔': 85, 'ॕ': 86, 'ॖ': 87, 'ॗ': 88, 'क़': 89, 'ख़': 90, 'ग़': 91, 'ज़': 92, 'ड़': 93, 'ढ़': 94, 'फ़': 95, 'य़': 96, 'ॠ': 97, 'ॡ': 98, 'ॢ': 99, 'ॣ': 100, '।': 101, '॥': 102, '०': 103, '१': 104, '२': 105, '३': 106, '४': 107, '५': 108, '६': 109, '७': 110, '८': 111, '९': 112, '॰': 113, 'ॱ': 114, 'ॲ': 115, 'ॳ': 116, 'ॴ': 117, 'ॵ': 118, 'ॶ': 119, 'ॷ': 120, 'ॸ': 121, 'ॹ': 122, 'ॺ': 123, 'ॻ': 124, 'ॼ': 125, 'ॽ': 126, 'ॾ': 127, 'ॿ': 128}\n"
          ]
        }
      ]
    },
    {
      "cell_type": "code",
      "source": [
        "import re\n",
        "non_eng_letters_regex = re.compile('[^a-zA-Z ]')\n",
        "\n",
        "# Removing non english letters \n",
        "def cleanEng(sentence):\n",
        "    sentence = sentence.replace('-', ' ').replace(',', ' ').upper()\n",
        "    sentence = non_eng_letters_regex.sub('', sentence)\n",
        "    return sentence.split()\n",
        "\n",
        "# Removing non hindi letters \n",
        "def cleanHin(sentence):\n",
        "    sentence = sentence.replace('-', ' ').replace(',', ' ')\n",
        "    cleaned_sentence = ''\n",
        "    for char in sentence:\n",
        "        if char in word2int_hin_dict or char == ' ':\n",
        "            cleaned_sentence += char\n",
        "    return cleaned_sentence.split()"
      ],
      "metadata": {
        "id": "h8HALhcVxGnp"
      },
      "execution_count": 9,
      "outputs": []
    },
    {
      "cell_type": "code",
      "source": [
        "cleanEng(\"there was#@@# a big boy\")"
      ],
      "metadata": {
        "id": "uKa4xOyJxGpj",
        "outputId": "5b968367-7f89-41f2-c0bf-8ae679d84a06",
        "colab": {
          "base_uri": "https://localhost:8080/"
        }
      },
      "execution_count": 10,
      "outputs": [
        {
          "output_type": "execute_result",
          "data": {
            "text/plain": [
              "['THERE', 'WAS', 'A', 'BIG', 'BOY']"
            ]
          },
          "metadata": {},
          "execution_count": 10
        }
      ]
    },
    {
      "cell_type": "code",
      "source": [
        "cleanHin(\"विराट18 ने @45शतक rt75%लगाया\")"
      ],
      "metadata": {
        "id": "06YIZY3PxGtD",
        "outputId": "3bbaae22-1848-4bab-da75-db166a39565f",
        "colab": {
          "base_uri": "https://localhost:8080/"
        }
      },
      "execution_count": 12,
      "outputs": [
        {
          "output_type": "execute_result",
          "data": {
            "text/plain": [
              "['विराट', 'ने', 'शतक', 'लगाया']"
            ]
          },
          "metadata": {},
          "execution_count": 12
        }
      ]
    },
    {
      "cell_type": "code",
      "source": [
        "def change1(word, intoindex):\n",
        "    change = torch.zeros(len(word)+1, 1, len(intoindex))\n",
        "    for letter_index, letter in enumerate(word):\n",
        "        pos = intoindex[letter]\n",
        "        change[letter_index][0][pos] = 1\n",
        "    padding_pos = intoindex[padding]\n",
        "    change[letter_index+1][0][padding_pos] = 1\n",
        "    return change\n",
        "\n",
        "def change2(word, intoindex):\n",
        "    change = torch.zeros([len(word)+1, 1], dtype=torch.long)\n",
        "    for letter_index, letter in enumerate(word):\n",
        "        pos = intoindex[letter]\n",
        "        change[letter_index][0] = pos\n",
        "    change[letter_index+1][0] = intoindex[padding]\n",
        "    return change"
      ],
      "metadata": {
        "id": "MuquRJIoxGu4"
      },
      "execution_count": 18,
      "outputs": []
    },
    {
      "cell_type": "code",
      "source": [
        "change1(\"YHAJK\",word2int_eng_dict)"
      ],
      "metadata": {
        "id": "WxGpgscj3dX0",
        "outputId": "e8025f8a-269d-4fbd-d27d-19d0d561fce0",
        "colab": {
          "base_uri": "https://localhost:8080/"
        }
      },
      "execution_count": 19,
      "outputs": [
        {
          "output_type": "execute_result",
          "data": {
            "text/plain": [
              "tensor([[[0., 0., 0., 0., 0., 0., 0., 0., 0., 0., 0., 0., 0., 0., 0., 0., 0.,\n",
              "          0., 0., 0., 0., 0., 0., 0., 0., 1., 0.]],\n",
              "\n",
              "        [[0., 0., 0., 0., 0., 0., 0., 0., 1., 0., 0., 0., 0., 0., 0., 0., 0.,\n",
              "          0., 0., 0., 0., 0., 0., 0., 0., 0., 0.]],\n",
              "\n",
              "        [[0., 1., 0., 0., 0., 0., 0., 0., 0., 0., 0., 0., 0., 0., 0., 0., 0.,\n",
              "          0., 0., 0., 0., 0., 0., 0., 0., 0., 0.]],\n",
              "\n",
              "        [[0., 0., 0., 0., 0., 0., 0., 0., 0., 0., 1., 0., 0., 0., 0., 0., 0.,\n",
              "          0., 0., 0., 0., 0., 0., 0., 0., 0., 0.]],\n",
              "\n",
              "        [[0., 0., 0., 0., 0., 0., 0., 0., 0., 0., 0., 1., 0., 0., 0., 0., 0.,\n",
              "          0., 0., 0., 0., 0., 0., 0., 0., 0., 0.]],\n",
              "\n",
              "        [[1., 0., 0., 0., 0., 0., 0., 0., 0., 0., 0., 0., 0., 0., 0., 0., 0.,\n",
              "          0., 0., 0., 0., 0., 0., 0., 0., 0., 0.]]])"
            ]
          },
          "metadata": {},
          "execution_count": 19
        }
      ]
    },
    {
      "cell_type": "code",
      "source": [
        "!pip install google-transliteration-api\n",
        "from google.transliteration import transliterate_word"
      ],
      "metadata": {
        "id": "1Bm51kJ53qEn",
        "outputId": "df1850e7-abcb-46c7-9029-bf5f66cff859",
        "colab": {
          "base_uri": "https://localhost:8080/"
        }
      },
      "execution_count": 23,
      "outputs": [
        {
          "output_type": "stream",
          "name": "stdout",
          "text": [
            "Looking in indexes: https://pypi.org/simple, https://us-python.pkg.dev/colab-wheels/public/simple/\n",
            "Requirement already satisfied: google-transliteration-api in /usr/local/lib/python3.8/dist-packages (1.0.3)\n"
          ]
        }
      ]
    },
    {
      "cell_type": "code",
      "source": [
        "suggestions = transliterate_word('Devnagri', lang_code='hi')"
      ],
      "metadata": {
        "id": "pzq3O6MJ7pmU"
      },
      "execution_count": 27,
      "outputs": []
    },
    {
      "cell_type": "code",
      "source": [
        "suggestions[0]\n",
        "#bestsuggestion"
      ],
      "metadata": {
        "id": "Ia-j1Xma702X",
        "outputId": "fe87cab7-0481-465e-f892-2e3f5937ea04",
        "colab": {
          "base_uri": "https://localhost:8080/",
          "height": 35
        }
      },
      "execution_count": 29,
      "outputs": [
        {
          "output_type": "execute_result",
          "data": {
            "text/plain": [
              "'देवनागरी'"
            ],
            "application/vnd.google.colaboratory.intrinsic+json": {
              "type": "string"
            }
          },
          "metadata": {},
          "execution_count": 29
        }
      ]
    },
    {
      "cell_type": "code",
      "source": [],
      "metadata": {
        "id": "USvwY07772_L"
      },
      "execution_count": null,
      "outputs": []
    }
  ]
}